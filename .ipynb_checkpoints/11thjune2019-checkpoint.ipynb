{
 "cells": [
  {
   "cell_type": "code",
   "execution_count": null,
   "metadata": {
    "scrolled": true
   },
   "outputs": [],
   "source": [
    "#print(\"this is saikrishna tangudu\")\n",
    "a=input(\"num1:\")\n",
    "b=input(\"num2:\")\n",
    "s=a+b \n",
    "print(s)\n"
   ]
  },
  {
   "cell_type": "markdown",
   "metadata": {},
   "source": [
    "# NOTEBOOK BASICS\n",
    "* **SAIKRISHNA**\n",
    "* *TANGUDU*\n",
    "* ***APSSDC***\n",
    "    * AWS\n",
    "    * alexa\n",
    "\n",
    "\n",
    "1. dddddddd\n",
    "2. jhgug8guytui\n",
    "\n",
    "\n",
    "[awslogo](aws.png)\n",
    "![awslogo](aws.png)\n",
    "\n",
    "<img src=\"aws.png\" width=\"30px\" height=\"30px\" style=\"float:right\">\n",
    "\n",
    "\n",
    "`printf(\"saikrishna\")`\n",
    "\n"
   ]
  },
  {
   "cell_type": "markdown",
   "metadata": {},
   "source": [
    "## PYTHON BASICS\n",
    "##### VERSION 3.7"
   ]
  },
  {
   "cell_type": "code",
   "execution_count": null,
   "metadata": {},
   "outputs": [],
   "source": [
    "print(\"helloo! gd evening\",'tttt',end=\"%%%%%%%%%%%%\")\n",
    "print('This is saikrishna')"
   ]
  },
  {
   "cell_type": "code",
   "execution_count": null,
   "metadata": {},
   "outputs": [],
   "source": [
    "n1"
   ]
  },
  {
   "cell_type": "markdown",
   "metadata": {},
   "source": [
    "### ASSIGNMENT"
   ]
  },
  {
   "cell_type": "code",
   "execution_count": null,
   "metadata": {},
   "outputs": [],
   "source": [
    "n1=123456\n",
    "n2=n3=n4=n1\n",
    "a,b,d=123,321,231\n",
    "print(a,b,d)"
   ]
  },
  {
   "cell_type": "markdown",
   "metadata": {},
   "source": [
    "### conditionals\n"
   ]
  },
  {
   "cell_type": "code",
   "execution_count": null,
   "metadata": {},
   "outputs": [],
   "source": [
    "\n",
    "a>12\n"
   ]
  },
  {
   "cell_type": "code",
   "execution_count": null,
   "metadata": {},
   "outputs": [],
   "source": []
  },
  {
   "cell_type": "markdown",
   "metadata": {},
   "source": [
    "### data  types\n",
    "* string\n",
    "* float\n",
    "* integer\n"
   ]
  },
  {
   "cell_type": "code",
   "execution_count": null,
   "metadata": {},
   "outputs": [],
   "source": [
    "a=23.677\n",
    "type(a)\n",
    "str(int(a))"
   ]
  },
  {
   "cell_type": "code",
   "execution_count": null,
   "metadata": {},
   "outputs": [],
   "source": [
    "a=12.777**66\n",
    "a\n"
   ]
  },
  {
   "cell_type": "code",
   "execution_count": 3,
   "metadata": {},
   "outputs": [
    {
     "name": "stdout",
     "output_type": "stream",
     "text": [
      "n1:23\n",
      "n2:24\n",
      "n1:23\n"
     ]
    },
    {
     "data": {
      "text/plain": [
       "24"
      ]
     },
     "execution_count": 3,
     "metadata": {},
     "output_type": "execute_result"
    }
   ],
   "source": [
    "#greatest of three numbers\n",
    "k=int(input('n1:'))\n",
    "p=int(input('n2:'))\n",
    "n=int(input('n1:'))\n",
    "l=[]\n",
    "l.append(p)\n",
    "l.append(n)\n",
    "l.append(k)\n",
    "max(l)\n"
   ]
  },
  {
   "cell_type": "code",
   "execution_count": 7,
   "metadata": {},
   "outputs": [
    {
     "name": "stdout",
     "output_type": "stream",
     "text": [
      "enter year2016\n",
      "2016 is a leap year\n"
     ]
    }
   ],
   "source": [
    "k=int(input(\"enter year\"))\n",
    "if(k%100!=0 and k%4==0):\n",
    "    print(k,\"is a leap year\")\n",
    "elif(k%400==0):\n",
    "        print(k,\"is a leap year\")\n",
    "else:\n",
    "    print(k,\"is not leap year\")\n"
   ]
  },
  {
   "cell_type": "code",
   "execution_count": null,
   "metadata": {},
   "outputs": [],
   "source": [
    "k=int(input(\"enter num\"))\n",
    "if(k%10==0):\n",
    "    print(k, \"is mutiple\")\n",
    "else:\n",
    "    print(k, \"is not mutiple\")\n",
    "\n",
    "    \n"
   ]
  },
  {
   "cell_type": "code",
   "execution_count": null,
   "metadata": {},
   "outputs": [],
   "source": [
    "k=int(input(\"enter num\"))\n",
    "if(1000%k==0):\n",
    "    print(k, \"is mutiple\")\n",
    "else:\n",
    "    print(k, \"is not mutiple\")\n"
   ]
  },
  {
   "cell_type": "code",
   "execution_count": null,
   "metadata": {},
   "outputs": [],
   "source": []
  }
 ],
 "metadata": {
  "kernelspec": {
   "display_name": "Python 3",
   "language": "python",
   "name": "python3"
  }
 },
 "nbformat": 4,
 "nbformat_minor": 2
}
