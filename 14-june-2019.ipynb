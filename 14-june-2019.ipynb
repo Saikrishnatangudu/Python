{
 "cells": [
  {
   "cell_type": "markdown",
   "metadata": {},
   "source": [
    "### PROBLEM SOLVING AND PROGRAMMING IN PYTHON\n",
    "###### DATE 14-JUNE-2019\n",
    "##### Day Objectives\n",
    "###### Python Data Structures\n",
    "* Lists\n",
    "* Tuples\n",
    "* Dictionaries\n",
    "\n",
    "\n",
    "Basic Problem set on Data Structures\n",
    "\n",
    "Advanced Problem Set\n",
    "\n",
    "Packages and Modules in Python"
   ]
  },
  {
   "cell_type": "code",
   "execution_count": 61,
   "metadata": {},
   "outputs": [
    {
     "data": {
      "text/plain": [
       "[123, 555, 566, 898, 8998, 99090, 98000]"
      ]
     },
     "execution_count": 61,
     "metadata": {},
     "output_type": "execute_result"
    }
   ],
   "source": [
    "li=[123,3455,566]\n",
    "\n",
    "li\n",
    "li[1]\n",
    "li[0]\n",
    "li[::-1]\n",
    "li=li[::-1]\n",
    "li\n",
    "li[1::2]\n",
    "#lists can be accessed ,manupulated in two ways\n",
    "        #Direct referncing\n",
    "        #Indirect referncing\n",
    "li.append(555)#adds element to end of list[566, 3455, 123, 555]\n",
    "\n",
    "\n",
    "li.insert(1,234)#adding element at requried place [566, 234, 3455, 123, 555]\n",
    "\n",
    "li.sort()#sort elements in acending order[123, 234, 555, 566, 3455]\n",
    "\n",
    "li.pop()#remove last element in list[123, 234, 555, 566]\n",
    "\n",
    "li.pop(1)#remove the element at particular index[123, 555, 566]\n",
    "\n",
    "li2=[898,8998,99090,98000]\n",
    "# merge list2 to list 1\n",
    "li.extend(li2)#o/p:[123, 555, 566, 898, 8998, 99090, 98000]\n",
    "sum(li)# o/p 208230\n",
    "max(li)# o/p 99090\n",
    "len(li)# o/p 7\n",
    "sum(li)/len(li)# average 29747.142\n",
    "#average of all alternate elements\n",
    "sum(li[::2])/len(li[::2])# 0/p:107687 / 4 = 26921.75\n",
    "li[-2]\n",
    "li\n",
    "\n"
   ]
  },
  {
   "cell_type": "code",
   "execution_count": 66,
   "metadata": {},
   "outputs": [
    {
     "name": "stdout",
     "output_type": "stream",
     "text": [
      "8998\n"
     ]
    }
   ],
   "source": [
    "#li=[123, 555, 566, 898, 8998, 99090, 98000]\n",
    "def sai(li,n):\n",
    "    li.sort()\n",
    "    print(li[-n])\n",
    "sai(li,3)"
   ]
  },
  {
   "cell_type": "code",
   "execution_count": 79,
   "metadata": {},
   "outputs": [
    {
     "data": {
      "text/plain": [
       "3"
      ]
     },
     "execution_count": 79,
     "metadata": {},
     "output_type": "execute_result"
    }
   ],
   "source": [
    "#  Function to saerch for data in alist\n",
    "#search for a key in the list and return the index value \n",
    "#li=[123, 555, 566, 898, 8998, 99090, 98000]\n",
    "def searchlist(li,key):\n",
    "    for i in range(0,len(li)):\n",
    "        if li[i]==key:\n",
    "            return i\n",
    "    return -1\n",
    "searchlist(li,898)\n",
    "#logic 2\n",
    "def searchlist2(li,key):\n",
    "    for i in li:\n",
    "        if i==key:\n",
    "            return li.index(i)\n",
    "    return -1\n",
    "searchlist2(li,898)\n",
    "# logic 3\n",
    "def searchlist3(li,key):\n",
    "    if key in li:\n",
    "        return li.index(key)\n",
    "    return -1\n",
    "searchlist2(li,898)\n",
    "    "
   ]
  },
  {
   "cell_type": "code",
   "execution_count": 6,
   "metadata": {},
   "outputs": [
    {
     "data": {
      "text/plain": [
       "2"
      ]
     },
     "execution_count": 6,
     "metadata": {},
     "output_type": "execute_result"
    }
   ],
   "source": [
    "# function to count the occurances of achracter in a string\n",
    "k=\"python programming\"\n",
    "def characteroccurances(k,n):\n",
    "    count=0\n",
    "    for i in k:\n",
    "        if i==n:\n",
    "            count+=1\n",
    "    return count\n",
    "characteroccurances(k,\"p\")\n",
    "#logic 2\n",
    "def chracteroccurances2(s,c):\n",
    "    return k.count(c)\n",
    "chracteroccurances2(k,\"py\")\n",
    "#logic 3\n",
    "# Function to find the number of occerences of a substring\n",
    "#\"abcabcddcbaaaa\", \"ab\" --> 2\n",
    "#\"abcabcddcbaaaa\", \"aa\" --> 3\n",
    "\n",
    "def countCharOccurences3(s,sb):\n",
    "    results = 0\n",
    "    sub_len = len(sb)\n",
    "    for i in range(len(s)):\n",
    "        if s[i:i+sub_len] == sb:\n",
    "            results += 1\n",
    "    return results\n",
    "countCharOccurences3(\"abcabcddcbaaaa\",\"ab\")"
   ]
  },
  {
   "cell_type": "code",
   "execution_count": 2,
   "metadata": {},
   "outputs": [
    {
     "data": {
      "text/plain": [
       "['1', '2', '3', '3', '4', '4', '55', '5', '5', '5']"
      ]
     },
     "execution_count": 2,
     "metadata": {},
     "output_type": "execute_result"
    }
   ],
   "source": [
    "s=\"1 2 3 3 4 4 55 5 5 5 \"\n",
    "s.split()\n",
    "\n",
    "\n"
   ]
  },
  {
   "cell_type": "code",
   "execution_count": 16,
   "metadata": {},
   "outputs": [
    {
     "name": "stdout",
     "output_type": "stream",
     "text": [
      "5\n",
      "-100 -200 2 4 -899\n",
      "[-100, -200, 2, 4, -899]\n",
      "[100, 200, 2, 4, 899]\n",
      "2\n",
      "-899\n"
     ]
    }
   ],
   "source": [
    "\n",
    "\n",
    "\n",
    "k=int(input())\n",
    "l=input()\n",
    "p=[]\n",
    "w=[]\n",
    "u=l.split()\n",
    "for i in u:\n",
    "    p.append(int(i))\n",
    "print(p)\n",
    "if min(p)==0:\n",
    "    print(0)\n",
    "elif min(p)!=0:\n",
    "    for j in p:\n",
    "        w.append(abs(j))\n",
    "print(w)\n",
    "if min(w) in p:\n",
    "    print(min(w))\n",
    "else:\n",
    "    print(-min(w))\n",
    "\n",
    "\n",
    "\n",
    "if max(w) in p:\n",
    "    print(max(w))\n",
    "else:\n",
    "    print(-max(w))\n",
    "\n",
    "\n"
   ]
  },
  {
   "cell_type": "markdown",
   "metadata": {},
   "source": [
    "### "
   ]
  },
  {
   "cell_type": "code",
   "execution_count": 41,
   "metadata": {},
   "outputs": [
    {
     "name": "stdout",
     "output_type": "stream",
     "text": [
      "2\n",
      "1 2 4\n",
      "[1, 2, 4]\n",
      "3\n"
     ]
    }
   ],
   "source": [
    "#question 3\n",
    "k=int(input())\n",
    "l=input()\n",
    "p=[]\n",
    "w=[]\n",
    "u=l.split()\n",
    "for i in u:\n",
    "    p.append(int(i))\n",
    "print(p)\n",
    "try:\n",
    "    for j in range (p[2],p[0]-1,-1):\n",
    "        if j%p[0]==p[1]:\n",
    "    \n",
    "    print(o)\n",
    "except:\n",
    "    print(-1)\n",
    "    \n",
    "\n",
    "        \n",
    "    \n"
   ]
  },
  {
   "cell_type": "code",
   "execution_count": null,
   "metadata": {},
   "outputs": [],
   "source": [
    "n=int(input(\"enter range: \"))\n",
    "for i in range(n):\n",
    "    abc=input(\"Enter abc:\").split()\n",
    "    a=int(abc[0])\n",
    "    b=int(abc[1])\n",
    "    c=int(abc[2])\n",
    "    print(divisible(a,b,c))\n",
    "def "
   ]
  },
  {
   "cell_type": "code",
   "execution_count": null,
   "metadata": {},
   "outputs": [],
   "source": []
  }
 ],
 "metadata": {
  "kernelspec": {
   "display_name": "Python 3",
   "language": "python",
   "name": "python3"
  },
  "language_info": {
   "codemirror_mode": {
    "name": "ipython",
    "version": 3
   },
   "file_extension": ".py",
   "mimetype": "text/x-python",
   "name": "python",
   "nbconvert_exporter": "python",
   "pygments_lexer": "ipython3",
   "version": "3.7.3"
  }
 },
 "nbformat": 4,
 "nbformat_minor": 2
}
